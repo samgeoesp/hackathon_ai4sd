{
 "cells": [
  {
   "cell_type": "markdown",
   "id": "11e3422b",
   "metadata": {},
   "source": [
    "# Task 1 - Solubility Predictions"
   ]
  },
  {
   "cell_type": "code",
   "execution_count": 24,
   "id": "incoming-romance",
   "metadata": {},
   "outputs": [],
   "source": [
    "import numpy as np\n",
    "import pandas as pd\n",
    "import matplotlib.pyplot as plt\n",
    "from sklearn.model_selection import train_test_split\n",
    "from rdkit import Chem\n",
    "from rdkit.Chem import Draw\n",
    "import scipy\n",
    "\n",
    "# compare pca number of components with logistic regression algorithm for classification\n",
    "from numpy import mean\n",
    "from numpy import std\n",
    "from sklearn.datasets import make_classification\n",
    "from sklearn.model_selection import cross_val_score\n",
    "from sklearn.model_selection import RepeatedStratifiedKFold\n",
    "from sklearn.pipeline import Pipeline\n",
    "from sklearn.decomposition import PCA\n",
    "from sklearn.linear_model import LogisticRegression\n",
    "from matplotlib import pyplot\n",
    "\n",
    "# sklearn \n",
    "from sklearn.preprocessing import StandardScaler\n",
    "from sklearn.linear_model import Ridge\n",
    "from sklearn.model_selection import cross_val_score, train_test_split\n",
    "from sklearn.feature_selection import RFECV\n",
    "from sklearn.model_selection import GridSearchCV\n",
    "from sklearn.svm import SVR\n",
    "\n",
    "#from sklearn import metrics\n",
    "from sklearn.metrics import mean_absolute_error, r2_score \n",
    "from sklearn.inspection import permutation_importance"
   ]
  },
  {
   "cell_type": "code",
   "execution_count": 2,
   "id": "divine-relative",
   "metadata": {},
   "outputs": [
    {
     "data": {
      "text/html": [
       "<div>\n",
       "<style scoped>\n",
       "    .dataframe tbody tr th:only-of-type {\n",
       "        vertical-align: middle;\n",
       "    }\n",
       "\n",
       "    .dataframe tbody tr th {\n",
       "        vertical-align: top;\n",
       "    }\n",
       "\n",
       "    .dataframe thead th {\n",
       "        text-align: right;\n",
       "    }\n",
       "</style>\n",
       "<table border=\"1\" class=\"dataframe\">\n",
       "  <thead>\n",
       "    <tr style=\"text-align: right;\">\n",
       "      <th></th>\n",
       "      <th>0</th>\n",
       "      <th>Compound_Identifier</th>\n",
       "      <th>Source</th>\n",
       "      <th>SMILES</th>\n",
       "      <th>LogS.M.</th>\n",
       "      <th>MW</th>\n",
       "      <th>AMW</th>\n",
       "      <th>Sv</th>\n",
       "      <th>Se</th>\n",
       "      <th>Sp</th>\n",
       "      <th>...</th>\n",
       "      <th>Psychotic-80</th>\n",
       "      <th>Psychotic-50</th>\n",
       "      <th>Hypertens-80</th>\n",
       "      <th>Hypertens-50</th>\n",
       "      <th>Hypnotic-80</th>\n",
       "      <th>Hypnotic-50</th>\n",
       "      <th>Neoplastic-80</th>\n",
       "      <th>Neoplastic-50</th>\n",
       "      <th>Infective-80</th>\n",
       "      <th>Infective-50\\r\\r\\n</th>\n",
       "    </tr>\n",
       "  </thead>\n",
       "  <tbody>\n",
       "    <tr>\n",
       "      <th>0</th>\n",
       "      <td>1</td>\n",
       "      <td>HU_100</td>\n",
       "      <td>Huuskonen</td>\n",
       "      <td>c1ccc2ccc3nccnc3c2c1</td>\n",
       "      <td>-2.68</td>\n",
       "      <td>180.22</td>\n",
       "      <td>8.192</td>\n",
       "      <td>15.623</td>\n",
       "      <td>21.854</td>\n",
       "      <td>16.296</td>\n",
       "      <td>...</td>\n",
       "      <td>0</td>\n",
       "      <td>0</td>\n",
       "      <td>0</td>\n",
       "      <td>0</td>\n",
       "      <td>1</td>\n",
       "      <td>0</td>\n",
       "      <td>1</td>\n",
       "      <td>0</td>\n",
       "      <td>1</td>\n",
       "      <td>0</td>\n",
       "    </tr>\n",
       "    <tr>\n",
       "      <th>1</th>\n",
       "      <td>2</td>\n",
       "      <td>HU_1000</td>\n",
       "      <td>Huuskonen</td>\n",
       "      <td>c1cnc2c(C)ncnc2n1</td>\n",
       "      <td>-0.12</td>\n",
       "      <td>146.17</td>\n",
       "      <td>8.598</td>\n",
       "      <td>11.612</td>\n",
       "      <td>17.291</td>\n",
       "      <td>11.784</td>\n",
       "      <td>...</td>\n",
       "      <td>0</td>\n",
       "      <td>0</td>\n",
       "      <td>0</td>\n",
       "      <td>0</td>\n",
       "      <td>0</td>\n",
       "      <td>0</td>\n",
       "      <td>0</td>\n",
       "      <td>0</td>\n",
       "      <td>0</td>\n",
       "      <td>0</td>\n",
       "    </tr>\n",
       "    <tr>\n",
       "      <th>2</th>\n",
       "      <td>3</td>\n",
       "      <td>HU_1001</td>\n",
       "      <td>Huuskonen</td>\n",
       "      <td>c1cnc2cnc(C)nc2n1</td>\n",
       "      <td>-0.47</td>\n",
       "      <td>146.17</td>\n",
       "      <td>8.598</td>\n",
       "      <td>11.612</td>\n",
       "      <td>17.291</td>\n",
       "      <td>11.784</td>\n",
       "      <td>...</td>\n",
       "      <td>0</td>\n",
       "      <td>0</td>\n",
       "      <td>0</td>\n",
       "      <td>0</td>\n",
       "      <td>0</td>\n",
       "      <td>0</td>\n",
       "      <td>0</td>\n",
       "      <td>0</td>\n",
       "      <td>0</td>\n",
       "      <td>0</td>\n",
       "    </tr>\n",
       "    <tr>\n",
       "      <th>3</th>\n",
       "      <td>4</td>\n",
       "      <td>HU_1002</td>\n",
       "      <td>Huuskonen</td>\n",
       "      <td>c1c(C)nc2cncnc2n1</td>\n",
       "      <td>0.06</td>\n",
       "      <td>146.17</td>\n",
       "      <td>8.598</td>\n",
       "      <td>11.612</td>\n",
       "      <td>17.291</td>\n",
       "      <td>11.784</td>\n",
       "      <td>...</td>\n",
       "      <td>0</td>\n",
       "      <td>0</td>\n",
       "      <td>0</td>\n",
       "      <td>0</td>\n",
       "      <td>0</td>\n",
       "      <td>0</td>\n",
       "      <td>0</td>\n",
       "      <td>0</td>\n",
       "      <td>0</td>\n",
       "      <td>0</td>\n",
       "    </tr>\n",
       "    <tr>\n",
       "      <th>4</th>\n",
       "      <td>5</td>\n",
       "      <td>HU_1003</td>\n",
       "      <td>Huuskonen</td>\n",
       "      <td>c1cnc2c(OC)ncnc2n1</td>\n",
       "      <td>-1.11</td>\n",
       "      <td>162.17</td>\n",
       "      <td>9.009</td>\n",
       "      <td>12.327</td>\n",
       "      <td>18.618</td>\n",
       "      <td>12.239</td>\n",
       "      <td>...</td>\n",
       "      <td>0</td>\n",
       "      <td>0</td>\n",
       "      <td>0</td>\n",
       "      <td>0</td>\n",
       "      <td>0</td>\n",
       "      <td>0</td>\n",
       "      <td>0</td>\n",
       "      <td>0</td>\n",
       "      <td>0</td>\n",
       "      <td>0</td>\n",
       "    </tr>\n",
       "    <tr>\n",
       "      <th>...</th>\n",
       "      <td>...</td>\n",
       "      <td>...</td>\n",
       "      <td>...</td>\n",
       "      <td>...</td>\n",
       "      <td>...</td>\n",
       "      <td>...</td>\n",
       "      <td>...</td>\n",
       "      <td>...</td>\n",
       "      <td>...</td>\n",
       "      <td>...</td>\n",
       "      <td>...</td>\n",
       "      <td>...</td>\n",
       "      <td>...</td>\n",
       "      <td>...</td>\n",
       "      <td>...</td>\n",
       "      <td>...</td>\n",
       "      <td>...</td>\n",
       "      <td>...</td>\n",
       "      <td>...</td>\n",
       "      <td>...</td>\n",
       "      <td>...</td>\n",
       "    </tr>\n",
       "    <tr>\n",
       "      <th>927</th>\n",
       "      <td>928</td>\n",
       "      <td>HU_T2_5</td>\n",
       "      <td>Huuskonen</td>\n",
       "      <td>c1ccccc1N2C(=O)C=C(C)N2C</td>\n",
       "      <td>-0.56</td>\n",
       "      <td>188.25</td>\n",
       "      <td>7.240</td>\n",
       "      <td>16.392</td>\n",
       "      <td>25.949</td>\n",
       "      <td>17.273</td>\n",
       "      <td>...</td>\n",
       "      <td>0</td>\n",
       "      <td>0</td>\n",
       "      <td>0</td>\n",
       "      <td>0</td>\n",
       "      <td>1</td>\n",
       "      <td>0</td>\n",
       "      <td>1</td>\n",
       "      <td>0</td>\n",
       "      <td>1</td>\n",
       "      <td>0</td>\n",
       "    </tr>\n",
       "    <tr>\n",
       "      <th>928</th>\n",
       "      <td>929</td>\n",
       "      <td>HU_T2_6</td>\n",
       "      <td>Huuskonen</td>\n",
       "      <td>n(c(nc(n1)NC(C)C)NCC)c1Cl</td>\n",
       "      <td>-3.85</td>\n",
       "      <td>215.72</td>\n",
       "      <td>7.704</td>\n",
       "      <td>16.569</td>\n",
       "      <td>28.251</td>\n",
       "      <td>17.693</td>\n",
       "      <td>...</td>\n",
       "      <td>0</td>\n",
       "      <td>0</td>\n",
       "      <td>1</td>\n",
       "      <td>0</td>\n",
       "      <td>1</td>\n",
       "      <td>0</td>\n",
       "      <td>1</td>\n",
       "      <td>0</td>\n",
       "      <td>1</td>\n",
       "      <td>0</td>\n",
       "    </tr>\n",
       "    <tr>\n",
       "      <th>929</th>\n",
       "      <td>930</td>\n",
       "      <td>HU_T2_7</td>\n",
       "      <td>Huuskonen</td>\n",
       "      <td>CCC1(C(=O)NC(=O)NC1=O)c2ccccc2</td>\n",
       "      <td>-2.34</td>\n",
       "      <td>232.26</td>\n",
       "      <td>8.009</td>\n",
       "      <td>18.821</td>\n",
       "      <td>29.604</td>\n",
       "      <td>19.182</td>\n",
       "      <td>...</td>\n",
       "      <td>0</td>\n",
       "      <td>0</td>\n",
       "      <td>1</td>\n",
       "      <td>0</td>\n",
       "      <td>1</td>\n",
       "      <td>1</td>\n",
       "      <td>1</td>\n",
       "      <td>0</td>\n",
       "      <td>1</td>\n",
       "      <td>0</td>\n",
       "    </tr>\n",
       "    <tr>\n",
       "      <th>930</th>\n",
       "      <td>931</td>\n",
       "      <td>HU_T2_8</td>\n",
       "      <td>Huuskonen</td>\n",
       "      <td>O=C(N(C)C)Nc(ccc(c1Cl)Cl)c1</td>\n",
       "      <td>-3.80</td>\n",
       "      <td>233.11</td>\n",
       "      <td>9.713</td>\n",
       "      <td>16.047</td>\n",
       "      <td>24.596</td>\n",
       "      <td>16.989</td>\n",
       "      <td>...</td>\n",
       "      <td>0</td>\n",
       "      <td>0</td>\n",
       "      <td>0</td>\n",
       "      <td>0</td>\n",
       "      <td>1</td>\n",
       "      <td>0</td>\n",
       "      <td>1</td>\n",
       "      <td>0</td>\n",
       "      <td>1</td>\n",
       "      <td>0</td>\n",
       "    </tr>\n",
       "    <tr>\n",
       "      <th>931</th>\n",
       "      <td>932</td>\n",
       "      <td>HU_T2_9</td>\n",
       "      <td>Huuskonen</td>\n",
       "      <td>O=C(N(N=CC(OC(N(=O)=O)=C1)=C1)CC2=O)N2</td>\n",
       "      <td>-3.47</td>\n",
       "      <td>238.18</td>\n",
       "      <td>10.356</td>\n",
       "      <td>16.186</td>\n",
       "      <td>24.927</td>\n",
       "      <td>15.057</td>\n",
       "      <td>...</td>\n",
       "      <td>0</td>\n",
       "      <td>0</td>\n",
       "      <td>0</td>\n",
       "      <td>0</td>\n",
       "      <td>0</td>\n",
       "      <td>0</td>\n",
       "      <td>1</td>\n",
       "      <td>0</td>\n",
       "      <td>1</td>\n",
       "      <td>0</td>\n",
       "    </tr>\n",
       "  </tbody>\n",
       "</table>\n",
       "<p>932 rows × 2261 columns</p>\n",
       "</div>"
      ],
      "text/plain": [
       "       0 Compound_Identifier     Source  \\\n",
       "0      1              HU_100  Huuskonen   \n",
       "1      2             HU_1000  Huuskonen   \n",
       "2      3             HU_1001  Huuskonen   \n",
       "3      4             HU_1002  Huuskonen   \n",
       "4      5             HU_1003  Huuskonen   \n",
       "..   ...                 ...        ...   \n",
       "927  928             HU_T2_5  Huuskonen   \n",
       "928  929             HU_T2_6  Huuskonen   \n",
       "929  930             HU_T2_7  Huuskonen   \n",
       "930  931             HU_T2_8  Huuskonen   \n",
       "931  932             HU_T2_9  Huuskonen   \n",
       "\n",
       "                                     SMILES  LogS.M.      MW     AMW      Sv  \\\n",
       "0                      c1ccc2ccc3nccnc3c2c1    -2.68  180.22   8.192  15.623   \n",
       "1                         c1cnc2c(C)ncnc2n1    -0.12  146.17   8.598  11.612   \n",
       "2                         c1cnc2cnc(C)nc2n1    -0.47  146.17   8.598  11.612   \n",
       "3                         c1c(C)nc2cncnc2n1     0.06  146.17   8.598  11.612   \n",
       "4                        c1cnc2c(OC)ncnc2n1    -1.11  162.17   9.009  12.327   \n",
       "..                                      ...      ...     ...     ...     ...   \n",
       "927                c1ccccc1N2C(=O)C=C(C)N2C    -0.56  188.25   7.240  16.392   \n",
       "928               n(c(nc(n1)NC(C)C)NCC)c1Cl    -3.85  215.72   7.704  16.569   \n",
       "929          CCC1(C(=O)NC(=O)NC1=O)c2ccccc2    -2.34  232.26   8.009  18.821   \n",
       "930             O=C(N(C)C)Nc(ccc(c1Cl)Cl)c1    -3.80  233.11   9.713  16.047   \n",
       "931  O=C(N(N=CC(OC(N(=O)=O)=C1)=C1)CC2=O)N2    -3.47  238.18  10.356  16.186   \n",
       "\n",
       "         Se      Sp  ...  Psychotic-80  Psychotic-50  Hypertens-80  \\\n",
       "0    21.854  16.296  ...             0             0             0   \n",
       "1    17.291  11.784  ...             0             0             0   \n",
       "2    17.291  11.784  ...             0             0             0   \n",
       "3    17.291  11.784  ...             0             0             0   \n",
       "4    18.618  12.239  ...             0             0             0   \n",
       "..      ...     ...  ...           ...           ...           ...   \n",
       "927  25.949  17.273  ...             0             0             0   \n",
       "928  28.251  17.693  ...             0             0             1   \n",
       "929  29.604  19.182  ...             0             0             1   \n",
       "930  24.596  16.989  ...             0             0             0   \n",
       "931  24.927  15.057  ...             0             0             0   \n",
       "\n",
       "     Hypertens-50  Hypnotic-80  Hypnotic-50  Neoplastic-80  Neoplastic-50  \\\n",
       "0               0            1            0              1              0   \n",
       "1               0            0            0              0              0   \n",
       "2               0            0            0              0              0   \n",
       "3               0            0            0              0              0   \n",
       "4               0            0            0              0              0   \n",
       "..            ...          ...          ...            ...            ...   \n",
       "927             0            1            0              1              0   \n",
       "928             0            1            0              1              0   \n",
       "929             0            1            1              1              0   \n",
       "930             0            1            0              1              0   \n",
       "931             0            0            0              1              0   \n",
       "\n",
       "     Infective-80  Infective-50\\r\\r\\n  \n",
       "0               1                   0  \n",
       "1               0                   0  \n",
       "2               0                   0  \n",
       "3               0                   0  \n",
       "4               0                   0  \n",
       "..            ...                 ...  \n",
       "927             1                   0  \n",
       "928             1                   0  \n",
       "929             1                   0  \n",
       "930             1                   0  \n",
       "931             1                   0  \n",
       "\n",
       "[932 rows x 2261 columns]"
      ]
     },
     "execution_count": 2,
     "metadata": {},
     "output_type": "execute_result"
    }
   ],
   "source": [
    "# Load in the data and visualise\n",
    "df = pd.read_csv('Husskonen_Solubility_Features.csv')\n",
    "df"
   ]
  },
  {
   "cell_type": "code",
   "execution_count": 3,
   "id": "e36727e3",
   "metadata": {},
   "outputs": [],
   "source": [
    "# Remove any columns that have strings or NaN\n",
    "lst = []\n",
    "\n",
    "# Loops through all the columns\n",
    "for i in df:\n",
    "    for value in df[i]:\n",
    "        if type(value) == str:\n",
    "            lst.append(str(i))\n",
    "\n",
    "            \n",
    "# Remove unwanted columns for now\n",
    "remove = list(set(lst))\n",
    "df = df.drop(columns=remove)\n",
    "\n",
    "# Remove index artifact column\n",
    "df = df.drop(columns=['0'])"
   ]
  },
  {
   "cell_type": "code",
   "execution_count": 4,
   "id": "d5771bc0",
   "metadata": {},
   "outputs": [
    {
     "data": {
      "image/png": "[encoded data removed]",
      "text/plain": [
       "<Figure size 432x288 with 1 Axes>"
      ]
     },
     "metadata": {
      "needs_background": "light"
     },
     "output_type": "display_data"
    }
   ],
   "source": [
    "plt.hist(df['LogS.M.'], bins=40)\n",
    "plt.show()"
   ]
  },
  {
   "cell_type": "markdown",
   "id": "f7e891c9",
   "metadata": {},
   "source": [
    "## Functions"
   ]
  },
  {
   "cell_type": "code",
   "execution_count": null,
   "id": "34efac26",
   "metadata": {},
   "outputs": [],
   "source": [
    "remove_collin(df)"
   ]
  },
  {
   "cell_type": "code",
   "execution_count": 7,
   "id": "0a424dc1",
   "metadata": {},
   "outputs": [
    {
     "name": "stdout",
     "output_type": "stream",
     "text": [
      "Before:  2257\n",
      "After:  2257\n"
     ]
    }
   ],
   "source": [
    "print('Before: ', len(df.columns))\n",
    "df.dropna(inplace=True)\n",
    "print('After: ', len(df.columns))"
   ]
  },
  {
   "cell_type": "code",
   "execution_count": 8,
   "id": "d9373146",
   "metadata": {},
   "outputs": [],
   "source": [
    "# split into X and y data\n",
    "X = df.drop(['LogS.M.'], axis = 1)\n",
    "y = df['LogS.M.']"
   ]
  },
  {
   "cell_type": "code",
   "execution_count": 10,
   "id": "40212a75",
   "metadata": {},
   "outputs": [],
   "source": [
    "X_train, X_test, y_train, y_test = train_test_split(X, y, train_size = 0.8, random_state = 1)"
   ]
  },
  {
   "cell_type": "code",
   "execution_count": 11,
   "id": "ac10139d",
   "metadata": {},
   "outputs": [],
   "source": [
    "# Define scaler object\n",
    "sc = StandardScaler()\n",
    "\n",
    "# Fit and transform the training data independantly of test set to prevent information leakage\n",
    "s_train = sc.fit_transform(X_train)\n",
    "s_train = pd.DataFrame(s_train, columns = X_train.columns, index = X_train.index)\n",
    "\n",
    "# Perform same transformation to the test set\n",
    "s_test = sc.transform(X_test)\n",
    "s_test = pd.DataFrame(s_test, columns = X_test.columns, index = X_test.index)\n",
    "\n",
    "X_train, X_test = s_train, s_test"
   ]
  },
  {
   "cell_type": "markdown",
   "id": "fca80fa9",
   "metadata": {},
   "source": [
    "# Ridge Regression"
   ]
  },
  {
   "cell_type": "code",
   "execution_count": 15,
   "id": "e1605343",
   "metadata": {},
   "outputs": [],
   "source": [
    "model = Ridge()"
   ]
  },
  {
   "cell_type": "code",
   "execution_count": 16,
   "id": "a75e3b69",
   "metadata": {},
   "outputs": [
    {
     "name": "stdout",
     "output_type": "stream",
     "text": [
      "CPU times: user 10.7 s, sys: 405 ms, total: 11.2 s\n",
      "Wall time: 3.12 s\n"
     ]
    }
   ],
   "source": [
    "%%time\n",
    "%%capture \n",
    "hyparam = {'alpha': [1e-6, 1e-5, 1e-4, 1e-3, 1e-2, 1e-1, 1, 10, 100]}\n",
    "ridge_grid = GridSearchCV(model, hyparam, cv=5, scoring='neg_mean_absolute_error')\n",
    "ridge_grid.fit(X_train, y_train)"
   ]
  },
  {
   "cell_type": "code",
   "execution_count": 17,
   "id": "b728eeff",
   "metadata": {},
   "outputs": [
    {
     "name": "stdout",
     "output_type": "stream",
     "text": [
      "{'alpha': 100}\n"
     ]
    }
   ],
   "source": [
    "print(ridge_grid.best_params_)"
   ]
  },
  {
   "cell_type": "code",
   "execution_count": 18,
   "id": "7c98efd6",
   "metadata": {},
   "outputs": [],
   "source": [
    "# Use the tuned hyperparameters\n",
    "ridge_model = Ridge(alpha=100)\n",
    "fit_model = ridge_model.fit(X_train, y_train)\n",
    "y_pred = fit_model.predict(X_test)"
   ]
  },
  {
   "cell_type": "code",
   "execution_count": 19,
   "id": "6dd3e199",
   "metadata": {},
   "outputs": [
    {
     "data": {
      "text/plain": [
       "<matplotlib.collections.PathCollection at 0x13d21eaa0>"
      ]
     },
     "execution_count": 19,
     "metadata": {},
     "output_type": "execute_result"
    },
    {
     "data": {
      "image/png": "[encoded data removed]",
      "text/plain": [
       "<Figure size 432x288 with 1 Axes>"
      ]
     },
     "metadata": {
      "needs_background": "light"
     },
     "output_type": "display_data"
    }
   ],
   "source": [
    "plt.scatter(y_pred, y_test)"
   ]
  },
  {
   "cell_type": "code",
   "execution_count": 21,
   "id": "09e13314",
   "metadata": {},
   "outputs": [
    {
     "name": "stdout",
     "output_type": "stream",
     "text": [
      "Mean Absolute Error:  0.565\n"
     ]
    }
   ],
   "source": [
    "mae = round(mean_absolute_error(y_pred, y_test),3)\n",
    "print('Mean Absolute Error: ', mae)"
   ]
  },
  {
   "cell_type": "code",
   "execution_count": 22,
   "id": "9f19a3a4",
   "metadata": {},
   "outputs": [
    {
     "name": "stdout",
     "output_type": "stream",
     "text": [
      "0.1574117634772242\n"
     ]
    }
   ],
   "source": [
    "rel_error = abs((y_test - y_pred.ravel())/y_test)\n",
    "MedRE = np.median(rel_error)\n",
    "print(MedRE)"
   ]
  },
  {
   "cell_type": "markdown",
   "id": "fe5ae04b",
   "metadata": {},
   "source": [
    "# SVR "
   ]
  },
  {
   "cell_type": "code",
   "execution_count": 25,
   "id": "11a1f7ec",
   "metadata": {},
   "outputs": [],
   "source": [
    "model = SVR(kernel='rbf')"
   ]
  },
  {
   "cell_type": "code",
   "execution_count": 26,
   "id": "2db0f061",
   "metadata": {},
   "outputs": [
    {
     "name": "stdout",
     "output_type": "stream",
     "text": [
      "CPU times: user 6min 7s, sys: 3.88 s, total: 6min 11s\n",
      "Wall time: 6min 12s\n"
     ]
    }
   ],
   "source": [
    "%%time\n",
    "%%capture\n",
    "hyparam = {'gamma':['scale', 'auto'], 'epsilon':[0.001, 0.01, 0.025, 0.05, 0.1, 0.25, 0.5, 1], 'C':[0.1, 0.25, 0.5, 1, 2, 5, 10, 20, 30, 50]}\n",
    "svr_grid = GridSearchCV(model, hyparam, cv=5, scoring='neg_mean_absolute_error')\n",
    "svr_grid.fit(X_train, y_train)"
   ]
  },
  {
   "cell_type": "code",
   "execution_count": 27,
   "id": "9e74474a",
   "metadata": {},
   "outputs": [
    {
     "name": "stdout",
     "output_type": "stream",
     "text": [
      "{'C': 10, 'epsilon': 0.025, 'gamma': 'auto'}\n"
     ]
    }
   ],
   "source": [
    "print(svr_grid.best_params_)"
   ]
  },
  {
   "cell_type": "code",
   "execution_count": 28,
   "id": "e582b88c",
   "metadata": {},
   "outputs": [],
   "source": [
    "# Use the tuned hyperparameters\n",
    "svr_model = SVR(kernel='rbf', C=10, gamma='auto', epsilon=0.025)\n",
    "fit_model = svr_model.fit(X_train, y_train)\n",
    "y_pred = fit_model.predict(X_test)"
   ]
  },
  {
   "cell_type": "code",
   "execution_count": 29,
   "id": "df041423",
   "metadata": {},
   "outputs": [
    {
     "data": {
      "text/plain": [
       "<matplotlib.collections.PathCollection at 0x13d24ecb0>"
      ]
     },
     "execution_count": 29,
     "metadata": {},
     "output_type": "execute_result"
    },
    {
     "data": {
      "image/png": "[encoded data removed]",
      "text/plain": [
       "<Figure size 432x288 with 1 Axes>"
      ]
     },
     "metadata": {
      "needs_background": "light"
     },
     "output_type": "display_data"
    }
   ],
   "source": [
    "plt.scatter(y_pred, y_test)"
   ]
  },
  {
   "cell_type": "code",
   "execution_count": 30,
   "id": "72e98dc9",
   "metadata": {},
   "outputs": [
    {
     "name": "stdout",
     "output_type": "stream",
     "text": [
      "Mean Absolute Error:  0.515\n"
     ]
    }
   ],
   "source": [
    "mae = round(mean_absolute_error(y_pred, y_test),3)\n",
    "print('Mean Absolute Error: ', mae)"
   ]
  },
  {
   "cell_type": "code",
   "execution_count": 31,
   "id": "7305e25d",
   "metadata": {},
   "outputs": [
    {
     "name": "stdout",
     "output_type": "stream",
     "text": [
      "0.13660564768935768\n"
     ]
    }
   ],
   "source": [
    "rel_error = abs((y_test - y_pred.ravel())/y_test)\n",
    "MedRE = np.median(rel_error)\n",
    "print(MedRE)"
   ]
  },
  {
   "cell_type": "code",
   "execution_count": null,
   "id": "3b6c10ad",
   "metadata": {},
   "outputs": [],
   "source": []
  }
 ],
 "metadata": {
  "kernelspec": {
   "display_name": "Python [conda env:hackathon] *",
   "language": "python",
   "name": "conda-env-hackathon-py"
  },
  "language_info": {
   "codemirror_mode": {
    "name": "ipython",
    "version": 3
   },
   "file_extension": ".py",
   "mimetype": "text/x-python",
   "name": "python",
   "nbconvert_exporter": "python",
   "pygments_lexer": "ipython3",
   "version": "3.10.5"
  }
 },
 "nbformat": 4,
 "nbformat_minor": 5
}
