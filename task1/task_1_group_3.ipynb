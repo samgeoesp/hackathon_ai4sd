{
 "cells": [
  {
   "cell_type": "markdown",
   "id": "11e3422b",
   "metadata": {},
   "source": [
    "# Task 1 - Solubility Predictions"
   ]
  },
  {
   "cell_type": "code",
   "execution_count": 2,
   "id": "incoming-romance",
   "metadata": {},
   "outputs": [],
   "source": [
    "import numpy as np\n",
    "import pandas as pd\n",
    "import matplotlib.pyplot as plt\n",
    "from sklearn.model_selection import train_test_split\n",
    "from rdkit import Chem\n",
    "from rdkit.Chem import Draw"
   ]
  },
  {
   "cell_type": "code",
   "execution_count": 3,
   "id": "divine-relative",
   "metadata": {},
   "outputs": [
    {
     "data": {
      "text/html": [
       "<div>\n",
       "<style scoped>\n",
       "    .dataframe tbody tr th:only-of-type {\n",
       "        vertical-align: middle;\n",
       "    }\n",
       "\n",
       "    .dataframe tbody tr th {\n",
       "        vertical-align: top;\n",
       "    }\n",
       "\n",
       "    .dataframe thead th {\n",
       "        text-align: right;\n",
       "    }\n",
       "</style>\n",
       "<table border=\"1\" class=\"dataframe\">\n",
       "  <thead>\n",
       "    <tr style=\"text-align: right;\">\n",
       "      <th></th>\n",
       "      <th>0</th>\n",
       "      <th>Compound_Identifier</th>\n",
       "      <th>Source</th>\n",
       "      <th>SMILES</th>\n",
       "      <th>LogS.M.</th>\n",
       "      <th>MW</th>\n",
       "      <th>AMW</th>\n",
       "      <th>Sv</th>\n",
       "      <th>Se</th>\n",
       "      <th>Sp</th>\n",
       "      <th>...</th>\n",
       "      <th>Psychotic-80</th>\n",
       "      <th>Psychotic-50</th>\n",
       "      <th>Hypertens-80</th>\n",
       "      <th>Hypertens-50</th>\n",
       "      <th>Hypnotic-80</th>\n",
       "      <th>Hypnotic-50</th>\n",
       "      <th>Neoplastic-80</th>\n",
       "      <th>Neoplastic-50</th>\n",
       "      <th>Infective-80</th>\n",
       "      <th>Infective-50\\r\\r\\n</th>\n",
       "    </tr>\n",
       "  </thead>\n",
       "  <tbody>\n",
       "    <tr>\n",
       "      <th>0</th>\n",
       "      <td>1</td>\n",
       "      <td>HU_100</td>\n",
       "      <td>Huuskonen</td>\n",
       "      <td>c1ccc2ccc3nccnc3c2c1</td>\n",
       "      <td>-2.68</td>\n",
       "      <td>180.22</td>\n",
       "      <td>8.192</td>\n",
       "      <td>15.623</td>\n",
       "      <td>21.854</td>\n",
       "      <td>16.296</td>\n",
       "      <td>...</td>\n",
       "      <td>0</td>\n",
       "      <td>0</td>\n",
       "      <td>0</td>\n",
       "      <td>0</td>\n",
       "      <td>1</td>\n",
       "      <td>0</td>\n",
       "      <td>1</td>\n",
       "      <td>0</td>\n",
       "      <td>1</td>\n",
       "      <td>0</td>\n",
       "    </tr>\n",
       "    <tr>\n",
       "      <th>1</th>\n",
       "      <td>2</td>\n",
       "      <td>HU_1000</td>\n",
       "      <td>Huuskonen</td>\n",
       "      <td>c1cnc2c(C)ncnc2n1</td>\n",
       "      <td>-0.12</td>\n",
       "      <td>146.17</td>\n",
       "      <td>8.598</td>\n",
       "      <td>11.612</td>\n",
       "      <td>17.291</td>\n",
       "      <td>11.784</td>\n",
       "      <td>...</td>\n",
       "      <td>0</td>\n",
       "      <td>0</td>\n",
       "      <td>0</td>\n",
       "      <td>0</td>\n",
       "      <td>0</td>\n",
       "      <td>0</td>\n",
       "      <td>0</td>\n",
       "      <td>0</td>\n",
       "      <td>0</td>\n",
       "      <td>0</td>\n",
       "    </tr>\n",
       "    <tr>\n",
       "      <th>2</th>\n",
       "      <td>3</td>\n",
       "      <td>HU_1001</td>\n",
       "      <td>Huuskonen</td>\n",
       "      <td>c1cnc2cnc(C)nc2n1</td>\n",
       "      <td>-0.47</td>\n",
       "      <td>146.17</td>\n",
       "      <td>8.598</td>\n",
       "      <td>11.612</td>\n",
       "      <td>17.291</td>\n",
       "      <td>11.784</td>\n",
       "      <td>...</td>\n",
       "      <td>0</td>\n",
       "      <td>0</td>\n",
       "      <td>0</td>\n",
       "      <td>0</td>\n",
       "      <td>0</td>\n",
       "      <td>0</td>\n",
       "      <td>0</td>\n",
       "      <td>0</td>\n",
       "      <td>0</td>\n",
       "      <td>0</td>\n",
       "    </tr>\n",
       "    <tr>\n",
       "      <th>3</th>\n",
       "      <td>4</td>\n",
       "      <td>HU_1002</td>\n",
       "      <td>Huuskonen</td>\n",
       "      <td>c1c(C)nc2cncnc2n1</td>\n",
       "      <td>0.06</td>\n",
       "      <td>146.17</td>\n",
       "      <td>8.598</td>\n",
       "      <td>11.612</td>\n",
       "      <td>17.291</td>\n",
       "      <td>11.784</td>\n",
       "      <td>...</td>\n",
       "      <td>0</td>\n",
       "      <td>0</td>\n",
       "      <td>0</td>\n",
       "      <td>0</td>\n",
       "      <td>0</td>\n",
       "      <td>0</td>\n",
       "      <td>0</td>\n",
       "      <td>0</td>\n",
       "      <td>0</td>\n",
       "      <td>0</td>\n",
       "    </tr>\n",
       "    <tr>\n",
       "      <th>4</th>\n",
       "      <td>5</td>\n",
       "      <td>HU_1003</td>\n",
       "      <td>Huuskonen</td>\n",
       "      <td>c1cnc2c(OC)ncnc2n1</td>\n",
       "      <td>-1.11</td>\n",
       "      <td>162.17</td>\n",
       "      <td>9.009</td>\n",
       "      <td>12.327</td>\n",
       "      <td>18.618</td>\n",
       "      <td>12.239</td>\n",
       "      <td>...</td>\n",
       "      <td>0</td>\n",
       "      <td>0</td>\n",
       "      <td>0</td>\n",
       "      <td>0</td>\n",
       "      <td>0</td>\n",
       "      <td>0</td>\n",
       "      <td>0</td>\n",
       "      <td>0</td>\n",
       "      <td>0</td>\n",
       "      <td>0</td>\n",
       "    </tr>\n",
       "    <tr>\n",
       "      <th>...</th>\n",
       "      <td>...</td>\n",
       "      <td>...</td>\n",
       "      <td>...</td>\n",
       "      <td>...</td>\n",
       "      <td>...</td>\n",
       "      <td>...</td>\n",
       "      <td>...</td>\n",
       "      <td>...</td>\n",
       "      <td>...</td>\n",
       "      <td>...</td>\n",
       "      <td>...</td>\n",
       "      <td>...</td>\n",
       "      <td>...</td>\n",
       "      <td>...</td>\n",
       "      <td>...</td>\n",
       "      <td>...</td>\n",
       "      <td>...</td>\n",
       "      <td>...</td>\n",
       "      <td>...</td>\n",
       "      <td>...</td>\n",
       "      <td>...</td>\n",
       "    </tr>\n",
       "    <tr>\n",
       "      <th>927</th>\n",
       "      <td>928</td>\n",
       "      <td>HU_T2_5</td>\n",
       "      <td>Huuskonen</td>\n",
       "      <td>c1ccccc1N2C(=O)C=C(C)N2C</td>\n",
       "      <td>-0.56</td>\n",
       "      <td>188.25</td>\n",
       "      <td>7.240</td>\n",
       "      <td>16.392</td>\n",
       "      <td>25.949</td>\n",
       "      <td>17.273</td>\n",
       "      <td>...</td>\n",
       "      <td>0</td>\n",
       "      <td>0</td>\n",
       "      <td>0</td>\n",
       "      <td>0</td>\n",
       "      <td>1</td>\n",
       "      <td>0</td>\n",
       "      <td>1</td>\n",
       "      <td>0</td>\n",
       "      <td>1</td>\n",
       "      <td>0</td>\n",
       "    </tr>\n",
       "    <tr>\n",
       "      <th>928</th>\n",
       "      <td>929</td>\n",
       "      <td>HU_T2_6</td>\n",
       "      <td>Huuskonen</td>\n",
       "      <td>n(c(nc(n1)NC(C)C)NCC)c1Cl</td>\n",
       "      <td>-3.85</td>\n",
       "      <td>215.72</td>\n",
       "      <td>7.704</td>\n",
       "      <td>16.569</td>\n",
       "      <td>28.251</td>\n",
       "      <td>17.693</td>\n",
       "      <td>...</td>\n",
       "      <td>0</td>\n",
       "      <td>0</td>\n",
       "      <td>1</td>\n",
       "      <td>0</td>\n",
       "      <td>1</td>\n",
       "      <td>0</td>\n",
       "      <td>1</td>\n",
       "      <td>0</td>\n",
       "      <td>1</td>\n",
       "      <td>0</td>\n",
       "    </tr>\n",
       "    <tr>\n",
       "      <th>929</th>\n",
       "      <td>930</td>\n",
       "      <td>HU_T2_7</td>\n",
       "      <td>Huuskonen</td>\n",
       "      <td>CCC1(C(=O)NC(=O)NC1=O)c2ccccc2</td>\n",
       "      <td>-2.34</td>\n",
       "      <td>232.26</td>\n",
       "      <td>8.009</td>\n",
       "      <td>18.821</td>\n",
       "      <td>29.604</td>\n",
       "      <td>19.182</td>\n",
       "      <td>...</td>\n",
       "      <td>0</td>\n",
       "      <td>0</td>\n",
       "      <td>1</td>\n",
       "      <td>0</td>\n",
       "      <td>1</td>\n",
       "      <td>1</td>\n",
       "      <td>1</td>\n",
       "      <td>0</td>\n",
       "      <td>1</td>\n",
       "      <td>0</td>\n",
       "    </tr>\n",
       "    <tr>\n",
       "      <th>930</th>\n",
       "      <td>931</td>\n",
       "      <td>HU_T2_8</td>\n",
       "      <td>Huuskonen</td>\n",
       "      <td>O=C(N(C)C)Nc(ccc(c1Cl)Cl)c1</td>\n",
       "      <td>-3.80</td>\n",
       "      <td>233.11</td>\n",
       "      <td>9.713</td>\n",
       "      <td>16.047</td>\n",
       "      <td>24.596</td>\n",
       "      <td>16.989</td>\n",
       "      <td>...</td>\n",
       "      <td>0</td>\n",
       "      <td>0</td>\n",
       "      <td>0</td>\n",
       "      <td>0</td>\n",
       "      <td>1</td>\n",
       "      <td>0</td>\n",
       "      <td>1</td>\n",
       "      <td>0</td>\n",
       "      <td>1</td>\n",
       "      <td>0</td>\n",
       "    </tr>\n",
       "    <tr>\n",
       "      <th>931</th>\n",
       "      <td>932</td>\n",
       "      <td>HU_T2_9</td>\n",
       "      <td>Huuskonen</td>\n",
       "      <td>O=C(N(N=CC(OC(N(=O)=O)=C1)=C1)CC2=O)N2</td>\n",
       "      <td>-3.47</td>\n",
       "      <td>238.18</td>\n",
       "      <td>10.356</td>\n",
       "      <td>16.186</td>\n",
       "      <td>24.927</td>\n",
       "      <td>15.057</td>\n",
       "      <td>...</td>\n",
       "      <td>0</td>\n",
       "      <td>0</td>\n",
       "      <td>0</td>\n",
       "      <td>0</td>\n",
       "      <td>0</td>\n",
       "      <td>0</td>\n",
       "      <td>1</td>\n",
       "      <td>0</td>\n",
       "      <td>1</td>\n",
       "      <td>0</td>\n",
       "    </tr>\n",
       "  </tbody>\n",
       "</table>\n",
       "<p>932 rows × 2261 columns</p>\n",
       "</div>"
      ],
      "text/plain": [
       "       0 Compound_Identifier     Source  \\\n",
       "0      1              HU_100  Huuskonen   \n",
       "1      2             HU_1000  Huuskonen   \n",
       "2      3             HU_1001  Huuskonen   \n",
       "3      4             HU_1002  Huuskonen   \n",
       "4      5             HU_1003  Huuskonen   \n",
       "..   ...                 ...        ...   \n",
       "927  928             HU_T2_5  Huuskonen   \n",
       "928  929             HU_T2_6  Huuskonen   \n",
       "929  930             HU_T2_7  Huuskonen   \n",
       "930  931             HU_T2_8  Huuskonen   \n",
       "931  932             HU_T2_9  Huuskonen   \n",
       "\n",
       "                                     SMILES  LogS.M.      MW     AMW      Sv  \\\n",
       "0                      c1ccc2ccc3nccnc3c2c1    -2.68  180.22   8.192  15.623   \n",
       "1                         c1cnc2c(C)ncnc2n1    -0.12  146.17   8.598  11.612   \n",
       "2                         c1cnc2cnc(C)nc2n1    -0.47  146.17   8.598  11.612   \n",
       "3                         c1c(C)nc2cncnc2n1     0.06  146.17   8.598  11.612   \n",
       "4                        c1cnc2c(OC)ncnc2n1    -1.11  162.17   9.009  12.327   \n",
       "..                                      ...      ...     ...     ...     ...   \n",
       "927                c1ccccc1N2C(=O)C=C(C)N2C    -0.56  188.25   7.240  16.392   \n",
       "928               n(c(nc(n1)NC(C)C)NCC)c1Cl    -3.85  215.72   7.704  16.569   \n",
       "929          CCC1(C(=O)NC(=O)NC1=O)c2ccccc2    -2.34  232.26   8.009  18.821   \n",
       "930             O=C(N(C)C)Nc(ccc(c1Cl)Cl)c1    -3.80  233.11   9.713  16.047   \n",
       "931  O=C(N(N=CC(OC(N(=O)=O)=C1)=C1)CC2=O)N2    -3.47  238.18  10.356  16.186   \n",
       "\n",
       "         Se      Sp  ...  Psychotic-80  Psychotic-50  Hypertens-80  \\\n",
       "0    21.854  16.296  ...             0             0             0   \n",
       "1    17.291  11.784  ...             0             0             0   \n",
       "2    17.291  11.784  ...             0             0             0   \n",
       "3    17.291  11.784  ...             0             0             0   \n",
       "4    18.618  12.239  ...             0             0             0   \n",
       "..      ...     ...  ...           ...           ...           ...   \n",
       "927  25.949  17.273  ...             0             0             0   \n",
       "928  28.251  17.693  ...             0             0             1   \n",
       "929  29.604  19.182  ...             0             0             1   \n",
       "930  24.596  16.989  ...             0             0             0   \n",
       "931  24.927  15.057  ...             0             0             0   \n",
       "\n",
       "     Hypertens-50  Hypnotic-80  Hypnotic-50  Neoplastic-80  Neoplastic-50  \\\n",
       "0               0            1            0              1              0   \n",
       "1               0            0            0              0              0   \n",
       "2               0            0            0              0              0   \n",
       "3               0            0            0              0              0   \n",
       "4               0            0            0              0              0   \n",
       "..            ...          ...          ...            ...            ...   \n",
       "927             0            1            0              1              0   \n",
       "928             0            1            0              1              0   \n",
       "929             0            1            1              1              0   \n",
       "930             0            1            0              1              0   \n",
       "931             0            0            0              1              0   \n",
       "\n",
       "     Infective-80  Infective-50\\r\\r\\n  \n",
       "0               1                   0  \n",
       "1               0                   0  \n",
       "2               0                   0  \n",
       "3               0                   0  \n",
       "4               0                   0  \n",
       "..            ...                 ...  \n",
       "927             1                   0  \n",
       "928             1                   0  \n",
       "929             1                   0  \n",
       "930             1                   0  \n",
       "931             1                   0  \n",
       "\n",
       "[932 rows x 2261 columns]"
      ]
     },
     "execution_count": 3,
     "metadata": {},
     "output_type": "execute_result"
    }
   ],
   "source": [
    "# Load in the data and visualise\n",
    "df = pd.read_csv('Husskonen_Solubility_Features.csv')\n",
    "df"
   ]
  },
  {
   "cell_type": "code",
   "execution_count": 4,
   "id": "e36727e3",
   "metadata": {},
   "outputs": [],
   "source": [
    "# Remove any columns that have strings or NaN\n",
    "lst = []\n",
    "\n",
    "# Loops through all the columns\n",
    "for i in df:\n",
    "    for value in df[i]:\n",
    "        if type(value) == str:\n",
    "            lst.append(str(i))\n",
    "\n",
    "            \n",
    "# Remove unwanted columns for now\n",
    "remove = list(set(lst))\n",
    "df = df.drop(columns=remove)\n",
    "df = df.drop(columns=['0'])"
   ]
  },
  {
   "cell_type": "code",
   "execution_count": 5,
   "id": "d5771bc0",
   "metadata": {},
   "outputs": [
    {
     "data": {
      "image/png": "[encoded data removed]",
      "text/plain": [
       "<Figure size 432x288 with 1 Axes>"
      ]
     },
     "metadata": {
      "needs_background": "light"
     },
     "output_type": "display_data"
    }
   ],
   "source": [
    "plt.hist(df['LogS.M.'], bins=40)\n",
    "plt.show()"
   ]
  },
  {
   "cell_type": "markdown",
   "id": "herbal-western",
   "metadata": {},
   "source": [
    "Extract the data we are going to use to do the prediction"
   ]
  },
  {
   "cell_type": "code",
   "execution_count": 9,
   "id": "right-scheme",
   "metadata": {},
   "outputs": [
    {
     "name": "stdout",
     "output_type": "stream",
     "text": [
      "(932, 2255)\n",
      "(932,)\n"
     ]
    }
   ],
   "source": [
    "X = sol[sol.columns[5:-1]] # getting the relevant data\n",
    "col_labels = sol.columns[5:-1]\n",
    "X = X.to_numpy()\n",
    "N, p = X.shape\n",
    "print(X.shape)\n",
    "print(y.shape)"
   ]
  },
  {
   "cell_type": "code",
   "execution_count": 10,
   "id": "1da73943",
   "metadata": {},
   "outputs": [
    {
     "name": "stdout",
     "output_type": "stream",
     "text": [
      "Index(['MW', 'AMW', 'Sv', 'Se', 'Sp'], dtype='object')\n"
     ]
    }
   ],
   "source": [
    "print(col_labels[:5])"
   ]
  },
  {
   "cell_type": "markdown",
   "id": "announced-heating",
   "metadata": {},
   "source": [
    "Split data up in to train test split"
   ]
  },
  {
   "cell_type": "code",
   "execution_count": 11,
   "id": "included-census",
   "metadata": {},
   "outputs": [],
   "source": [
    "from sklearn.model_selection import train_test_split\n",
    "X_train, X_test, y_train, y_test = train_test_split(X, y, test_size=0.3)"
   ]
  },
  {
   "cell_type": "markdown",
   "id": "hydraulic-sleeping",
   "metadata": {},
   "source": [
    "Regularised L2 regression"
   ]
  },
  {
   "cell_type": "markdown",
   "id": "adjacent-consultancy",
   "metadata": {},
   "source": [
    "Implement using matrix multiplication: \n",
    "\n",
    "$ \\hat{w} = (X^T X + \\gamma I) X^Ty$\n",
    "\n",
    "$ \\hat{y} = \\hat{w} X$"
   ]
  },
  {
   "cell_type": "code",
   "execution_count": 125,
   "id": "automated-antarctica",
   "metadata": {},
   "outputs": [],
   "source": [
    "gamma = 2.3\n",
    "# get weights \n",
    "w = \n",
    "# use it to estimate results\n",
    "y_hat_train =  \n",
    "y_hat_test  = \n"
   ]
  },
  {
   "cell_type": "markdown",
   "id": "governmental-groove",
   "metadata": {},
   "source": [
    "Plot training and test predictions"
   ]
  },
  {
   "cell_type": "code",
   "execution_count": 126,
   "id": "allied-recording",
   "metadata": {},
   "outputs": [
    {
     "data": {
      "image/png": "[encoded data removed]",
      "text/plain": [
       "<Figure size 576x576 with 1 Axes>"
      ]
     },
     "metadata": {
      "needs_background": "light"
     },
     "output_type": "display_data"
    }
   ],
   "source": [
    "plt.figure(figsize=(8,8))\n",
    "plt.scatter(y_train, y_hat_train, s=3);\n",
    "plt.xlabel('Target Values')\n",
    "plt.ylabel('Estimated Values');"
   ]
  },
  {
   "cell_type": "markdown",
   "id": "20937bdb",
   "metadata": {},
   "source": [
    "Do the same for the test values. Identify those which don't fit the pattern. "
   ]
  },
  {
   "cell_type": "markdown",
   "id": "691ef73c",
   "metadata": {},
   "source": [
    "Can you see anything they have in common?"
   ]
  },
  {
   "cell_type": "markdown",
   "id": "1c520a9b",
   "metadata": {},
   "source": [
    "Measure your success\n"
   ]
  },
  {
   "cell_type": "code",
   "execution_count": 128,
   "id": "cafab0c1",
   "metadata": {},
   "outputs": [
    {
     "data": {
      "image/png": "[encoded data removed]",
      "text/plain": [
       "<Figure size 288x288 with 1 Axes>"
      ]
     },
     "metadata": {
      "needs_background": "light"
     },
     "output_type": "display_data"
    }
   ],
   "source": [
    "fig, ax = plt.subplots(figsize=(4,4))\n",
    "ax.hist(w, bins=40)\n",
    "ax.set_title(\"Histogram of coefficients\", fontsize=14);"
   ]
  },
  {
   "cell_type": "markdown",
   "id": "238863fc",
   "metadata": {},
   "source": [
    "Try L1 regularisation.."
   ]
  },
  {
   "cell_type": "markdown",
   "id": "8eb02bb4",
   "metadata": {},
   "source": [
    "Compare with L2.. what do you see?"
   ]
  },
  {
   "cell_type": "code",
   "execution_count": null,
   "id": "28b0b025",
   "metadata": {},
   "outputs": [],
   "source": []
  }
 ],
 "metadata": {
  "kernelspec": {
   "display_name": "Python [conda env:hackathon] *",
   "language": "python",
   "name": "conda-env-hackathon-py"
  },
  "language_info": {
   "codemirror_mode": {
    "name": "ipython",
    "version": 3
   },
   "file_extension": ".py",
   "mimetype": "text/x-python",
   "name": "python",
   "nbconvert_exporter": "python",
   "pygments_lexer": "ipython3",
   "version": "3.10.5"
  }
 },
 "nbformat": 4,
 "nbformat_minor": 5
}
